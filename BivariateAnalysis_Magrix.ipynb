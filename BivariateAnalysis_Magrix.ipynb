{
  "nbformat": 4,
  "nbformat_minor": 0,
  "metadata": {
    "colab": {
      "name": "Untitled5.ipynb",
      "provenance": [],
      "authorship_tag": "ABX9TyORKAnx01YhzUAgqmS56lBY",
      "include_colab_link": true
    },
    "kernelspec": {
      "name": "python3",
      "display_name": "Python 3"
    }
  },
  "cells": [
    {
      "cell_type": "markdown",
      "metadata": {
        "id": "view-in-github",
        "colab_type": "text"
      },
      "source": [
        "<a href=\"https://colab.research.google.com/github/Srinunosina/npoi/blob/master/BivariateAnalysis_Magrix.ipynb\" target=\"_parent\"><img src=\"https://colab.research.google.com/assets/colab-badge.svg\" alt=\"Open In Colab\"/></a>"
      ]
    },
    {
      "cell_type": "code",
      "metadata": {
        "id": "YgZu4UPXRFB3",
        "colab_type": "code",
        "colab": {}
      },
      "source": [
        "import numpy as np\n",
        "import pandas as pd\n",
        "\n",
        "import matplotlib.pyplot as plt\n",
        "import seaborn as sns\n"
      ],
      "execution_count": 0,
      "outputs": []
    },
    {
      "cell_type": "code",
      "metadata": {
        "id": "-wWWeu7mRPnG",
        "colab_type": "code",
        "colab": {
          "base_uri": "https://localhost:8080/",
          "height": 170
        },
        "outputId": "079dda9d-8dc2-486c-a1b1-5b239fb71dec"
      },
      "source": [
        "url='https://raw.githubusercontent.com/Srinunosina/FDS/master/currencies.csv?token=AAUS2HE2UEJQYPNLA4HYPGK6WNGWS'\n",
        "df = pd.read_csv(url, index_col=0)\n",
        "print(df.head(5))"
      ],
      "execution_count": 33,
      "outputs": [
        {
          "output_type": "stream",
          "text": [
            "               Chinese Yuan     Euro  ...  Peso Uruguayo  Bolivar Fuerte\n",
            "Currency                              ...                               \n",
            "July 01, 2016       9.29446  1.25367  ...            NaN         13.9247\n",
            "July 05, 2016       9.31515  1.25322  ...        42.9026         13.9335\n",
            "July 06, 2016       9.31697  1.25834  ...        42.6425         13.8938\n",
            "July 07, 2016       9.31315  1.25737  ...        42.4176         13.8968\n",
            "July 08, 2016       9.31350  1.25797  ...        42.2060         13.8909\n",
            "\n",
            "[5 rows x 51 columns]\n"
          ],
          "name": "stdout"
        }
      ]
    },
    {
      "cell_type": "code",
      "metadata": {
        "id": "_miVjWg3UluG",
        "colab_type": "code",
        "colab": {
          "base_uri": "https://localhost:8080/",
          "height": 235
        },
        "outputId": "080843a3-467d-4e37-8ed4-85e363187996"
      },
      "source": [
        "df1 = pd.DataFrame(df, columns = ['Euro', 'Japanese Yen', 'U.K. Pound Sterling','U.S. Dollar', 'Australian Dollar', 'Indian Rupee','Chinese Yuan'])\n",
        "df1.tail(5)\n",
        "#Euro, Japanese Yen, U.K. Pound Sterling, US Dollar, Australian Dollar, Indian Rupee."
      ],
      "execution_count": 42,
      "outputs": [
        {
          "output_type": "execute_result",
          "data": {
            "text/html": [
              "<div>\n",
              "<style scoped>\n",
              "    .dataframe tbody tr th:only-of-type {\n",
              "        vertical-align: middle;\n",
              "    }\n",
              "\n",
              "    .dataframe tbody tr th {\n",
              "        vertical-align: top;\n",
              "    }\n",
              "\n",
              "    .dataframe thead th {\n",
              "        text-align: right;\n",
              "    }\n",
              "</style>\n",
              "<table border=\"1\" class=\"dataframe\">\n",
              "  <thead>\n",
              "    <tr style=\"text-align: right;\">\n",
              "      <th></th>\n",
              "      <th>Euro</th>\n",
              "      <th>Japanese Yen</th>\n",
              "      <th>U.K. Pound Sterling</th>\n",
              "      <th>U.S. Dollar</th>\n",
              "      <th>Australian Dollar</th>\n",
              "      <th>Indian Rupee</th>\n",
              "      <th>Chinese Yuan</th>\n",
              "    </tr>\n",
              "    <tr>\n",
              "      <th>Currency</th>\n",
              "      <th></th>\n",
              "      <th></th>\n",
              "      <th></th>\n",
              "      <th></th>\n",
              "      <th></th>\n",
              "      <th></th>\n",
              "      <th></th>\n",
              "    </tr>\n",
              "  </thead>\n",
              "  <tbody>\n",
              "    <tr>\n",
              "      <th>July 12, 2016</th>\n",
              "      <td>1.25490</td>\n",
              "      <td>143.369</td>\n",
              "      <td>1.05762</td>\n",
              "      <td>1.39194</td>\n",
              "      <td>1.83439</td>\n",
              "      <td>93.4641</td>\n",
              "      <td>9.31021</td>\n",
              "    </tr>\n",
              "    <tr>\n",
              "      <th>July 13, 2016</th>\n",
              "      <td>1.25716</td>\n",
              "      <td>145.178</td>\n",
              "      <td>1.04680</td>\n",
              "      <td>1.39193</td>\n",
              "      <td>1.83101</td>\n",
              "      <td>93.5445</td>\n",
              "      <td>9.31350</td>\n",
              "    </tr>\n",
              "    <tr>\n",
              "      <th>July 14, 2016</th>\n",
              "      <td>1.24695</td>\n",
              "      <td>144.895</td>\n",
              "      <td>1.05236</td>\n",
              "      <td>1.39122</td>\n",
              "      <td>1.82791</td>\n",
              "      <td>93.0917</td>\n",
              "      <td>9.30432</td>\n",
              "    </tr>\n",
              "    <tr>\n",
              "      <th>July 15, 2016</th>\n",
              "      <td>1.25263</td>\n",
              "      <td>147.268</td>\n",
              "      <td>1.04242</td>\n",
              "      <td>1.39392</td>\n",
              "      <td>1.82786</td>\n",
              "      <td>NaN</td>\n",
              "      <td>9.31532</td>\n",
              "    </tr>\n",
              "    <tr>\n",
              "      <th>July 18, 2016</th>\n",
              "      <td>1.25652</td>\n",
              "      <td>NaN</td>\n",
              "      <td>1.04952</td>\n",
              "      <td>1.38883</td>\n",
              "      <td>1.82741</td>\n",
              "      <td>93.1923</td>\n",
              "      <td>9.30354</td>\n",
              "    </tr>\n",
              "  </tbody>\n",
              "</table>\n",
              "</div>"
            ],
            "text/plain": [
              "                  Euro  Japanese Yen  ...  Indian Rupee  Chinese Yuan\n",
              "Currency                              ...                            \n",
              "July 12, 2016  1.25490       143.369  ...       93.4641       9.31021\n",
              "July 13, 2016  1.25716       145.178  ...       93.5445       9.31350\n",
              "July 14, 2016  1.24695       144.895  ...       93.0917       9.30432\n",
              "July 15, 2016  1.25263       147.268  ...           NaN       9.31532\n",
              "July 18, 2016  1.25652           NaN  ...       93.1923       9.30354\n",
              "\n",
              "[5 rows x 7 columns]"
            ]
          },
          "metadata": {
            "tags": []
          },
          "execution_count": 42
        }
      ]
    },
    {
      "cell_type": "code",
      "metadata": {
        "id": "9ulwtjTiYnON",
        "colab_type": "code",
        "colab": {
          "base_uri": "https://localhost:8080/",
          "height": 266
        },
        "outputId": "940ec9ce-18d9-44eb-a047-c1ef675e2699"
      },
      "source": [
        "df1.corr()"
      ],
      "execution_count": 43,
      "outputs": [
        {
          "output_type": "execute_result",
          "data": {
            "text/html": [
              "<div>\n",
              "<style scoped>\n",
              "    .dataframe tbody tr th:only-of-type {\n",
              "        vertical-align: middle;\n",
              "    }\n",
              "\n",
              "    .dataframe tbody tr th {\n",
              "        vertical-align: top;\n",
              "    }\n",
              "\n",
              "    .dataframe thead th {\n",
              "        text-align: right;\n",
              "    }\n",
              "</style>\n",
              "<table border=\"1\" class=\"dataframe\">\n",
              "  <thead>\n",
              "    <tr style=\"text-align: right;\">\n",
              "      <th></th>\n",
              "      <th>Euro</th>\n",
              "      <th>Japanese Yen</th>\n",
              "      <th>U.K. Pound Sterling</th>\n",
              "      <th>U.S. Dollar</th>\n",
              "      <th>Australian Dollar</th>\n",
              "      <th>Indian Rupee</th>\n",
              "      <th>Chinese Yuan</th>\n",
              "    </tr>\n",
              "  </thead>\n",
              "  <tbody>\n",
              "    <tr>\n",
              "      <th>Euro</th>\n",
              "      <td>1.000000</td>\n",
              "      <td>-0.645719</td>\n",
              "      <td>0.531150</td>\n",
              "      <td>-0.210587</td>\n",
              "      <td>0.331588</td>\n",
              "      <td>0.243851</td>\n",
              "      <td>0.151596</td>\n",
              "    </tr>\n",
              "    <tr>\n",
              "      <th>Japanese Yen</th>\n",
              "      <td>-0.645719</td>\n",
              "      <td>1.000000</td>\n",
              "      <td>-0.970308</td>\n",
              "      <td>0.210295</td>\n",
              "      <td>-0.582032</td>\n",
              "      <td>-0.270123</td>\n",
              "      <td>0.117566</td>\n",
              "    </tr>\n",
              "    <tr>\n",
              "      <th>U.K. Pound Sterling</th>\n",
              "      <td>0.531150</td>\n",
              "      <td>-0.970308</td>\n",
              "      <td>1.000000</td>\n",
              "      <td>-0.042303</td>\n",
              "      <td>0.579213</td>\n",
              "      <td>0.314681</td>\n",
              "      <td>0.108695</td>\n",
              "    </tr>\n",
              "    <tr>\n",
              "      <th>U.S. Dollar</th>\n",
              "      <td>-0.210587</td>\n",
              "      <td>0.210295</td>\n",
              "      <td>-0.042303</td>\n",
              "      <td>1.000000</td>\n",
              "      <td>0.607010</td>\n",
              "      <td>0.872862</td>\n",
              "      <td>0.291582</td>\n",
              "    </tr>\n",
              "    <tr>\n",
              "      <th>Australian Dollar</th>\n",
              "      <td>0.331588</td>\n",
              "      <td>-0.582032</td>\n",
              "      <td>0.579213</td>\n",
              "      <td>0.607010</td>\n",
              "      <td>1.000000</td>\n",
              "      <td>0.921475</td>\n",
              "      <td>0.077983</td>\n",
              "    </tr>\n",
              "    <tr>\n",
              "      <th>Indian Rupee</th>\n",
              "      <td>0.243851</td>\n",
              "      <td>-0.270123</td>\n",
              "      <td>0.314681</td>\n",
              "      <td>0.872862</td>\n",
              "      <td>0.921475</td>\n",
              "      <td>1.000000</td>\n",
              "      <td>0.304050</td>\n",
              "    </tr>\n",
              "    <tr>\n",
              "      <th>Chinese Yuan</th>\n",
              "      <td>0.151596</td>\n",
              "      <td>0.117566</td>\n",
              "      <td>0.108695</td>\n",
              "      <td>0.291582</td>\n",
              "      <td>0.077983</td>\n",
              "      <td>0.304050</td>\n",
              "      <td>1.000000</td>\n",
              "    </tr>\n",
              "  </tbody>\n",
              "</table>\n",
              "</div>"
            ],
            "text/plain": [
              "                         Euro  Japanese Yen  ...  Indian Rupee  Chinese Yuan\n",
              "Euro                 1.000000     -0.645719  ...      0.243851      0.151596\n",
              "Japanese Yen        -0.645719      1.000000  ...     -0.270123      0.117566\n",
              "U.K. Pound Sterling  0.531150     -0.970308  ...      0.314681      0.108695\n",
              "U.S. Dollar         -0.210587      0.210295  ...      0.872862      0.291582\n",
              "Australian Dollar    0.331588     -0.582032  ...      0.921475      0.077983\n",
              "Indian Rupee         0.243851     -0.270123  ...      1.000000      0.304050\n",
              "Chinese Yuan         0.151596      0.117566  ...      0.304050      1.000000\n",
              "\n",
              "[7 rows x 7 columns]"
            ]
          },
          "metadata": {
            "tags": []
          },
          "execution_count": 43
        }
      ]
    },
    {
      "cell_type": "code",
      "metadata": {
        "id": "RNMq3SSaZ9px",
        "colab_type": "code",
        "colab": {
          "base_uri": "https://localhost:8080/",
          "height": 235
        },
        "outputId": "6a17bef3-0efe-4fb2-c4c7-20efa5a1190b"
      },
      "source": [
        "df1.corr(method='kendall')"
      ],
      "execution_count": 40,
      "outputs": [
        {
          "output_type": "execute_result",
          "data": {
            "text/html": [
              "<div>\n",
              "<style scoped>\n",
              "    .dataframe tbody tr th:only-of-type {\n",
              "        vertical-align: middle;\n",
              "    }\n",
              "\n",
              "    .dataframe tbody tr th {\n",
              "        vertical-align: top;\n",
              "    }\n",
              "\n",
              "    .dataframe thead th {\n",
              "        text-align: right;\n",
              "    }\n",
              "</style>\n",
              "<table border=\"1\" class=\"dataframe\">\n",
              "  <thead>\n",
              "    <tr style=\"text-align: right;\">\n",
              "      <th></th>\n",
              "      <th>Euro</th>\n",
              "      <th>Japanese Yen</th>\n",
              "      <th>U.K. Pound Sterling</th>\n",
              "      <th>U.S. Dollar</th>\n",
              "      <th>Australian Dollar</th>\n",
              "      <th>Indian Rupee</th>\n",
              "    </tr>\n",
              "  </thead>\n",
              "  <tbody>\n",
              "    <tr>\n",
              "      <th>Euro</th>\n",
              "      <td>1.000000</td>\n",
              "      <td>-0.555556</td>\n",
              "      <td>0.527273</td>\n",
              "      <td>-0.127273</td>\n",
              "      <td>0.381818</td>\n",
              "      <td>0.000000</td>\n",
              "    </tr>\n",
              "    <tr>\n",
              "      <th>Japanese Yen</th>\n",
              "      <td>-0.555556</td>\n",
              "      <td>1.000000</td>\n",
              "      <td>-0.822222</td>\n",
              "      <td>0.155556</td>\n",
              "      <td>-0.466667</td>\n",
              "      <td>0.000000</td>\n",
              "    </tr>\n",
              "    <tr>\n",
              "      <th>U.K. Pound Sterling</th>\n",
              "      <td>0.527273</td>\n",
              "      <td>-0.822222</td>\n",
              "      <td>1.000000</td>\n",
              "      <td>0.054545</td>\n",
              "      <td>0.563636</td>\n",
              "      <td>0.111111</td>\n",
              "    </tr>\n",
              "    <tr>\n",
              "      <th>U.S. Dollar</th>\n",
              "      <td>-0.127273</td>\n",
              "      <td>0.155556</td>\n",
              "      <td>0.054545</td>\n",
              "      <td>1.000000</td>\n",
              "      <td>0.418182</td>\n",
              "      <td>0.833333</td>\n",
              "    </tr>\n",
              "    <tr>\n",
              "      <th>Australian Dollar</th>\n",
              "      <td>0.381818</td>\n",
              "      <td>-0.466667</td>\n",
              "      <td>0.563636</td>\n",
              "      <td>0.418182</td>\n",
              "      <td>1.000000</td>\n",
              "      <td>0.611111</td>\n",
              "    </tr>\n",
              "    <tr>\n",
              "      <th>Indian Rupee</th>\n",
              "      <td>0.000000</td>\n",
              "      <td>0.000000</td>\n",
              "      <td>0.111111</td>\n",
              "      <td>0.833333</td>\n",
              "      <td>0.611111</td>\n",
              "      <td>1.000000</td>\n",
              "    </tr>\n",
              "  </tbody>\n",
              "</table>\n",
              "</div>"
            ],
            "text/plain": [
              "                         Euro  Japanese Yen  ...  Australian Dollar  Indian Rupee\n",
              "Euro                 1.000000     -0.555556  ...           0.381818      0.000000\n",
              "Japanese Yen        -0.555556      1.000000  ...          -0.466667      0.000000\n",
              "U.K. Pound Sterling  0.527273     -0.822222  ...           0.563636      0.111111\n",
              "U.S. Dollar         -0.127273      0.155556  ...           0.418182      0.833333\n",
              "Australian Dollar    0.381818     -0.466667  ...           1.000000      0.611111\n",
              "Indian Rupee         0.000000      0.000000  ...           0.611111      1.000000\n",
              "\n",
              "[6 rows x 6 columns]"
            ]
          },
          "metadata": {
            "tags": []
          },
          "execution_count": 40
        }
      ]
    },
    {
      "cell_type": "code",
      "metadata": {
        "id": "BiVuduyNkjD6",
        "colab_type": "code",
        "colab": {
          "base_uri": "https://localhost:8080/",
          "height": 596
        },
        "outputId": "5ad2ab19-3eaf-4228-c1c7-3c2d4e933c66"
      },
      "source": [
        "fig, ax = plt.subplots(figsize=(10,10))\n",
        "corr = df1[[\"Indian Rupee\", \"Australian Dollar\", \"U.S. Dollar\", \"Japanese Yen\", \"Euro\"]].corr()\n",
        "sns.heatmap(corr, xticklabels=corr.columns.values, yticklabels=corr.columns.values, annot=True, ax=ax)\n",
        "plt.show()"
      ],
      "execution_count": 44,
      "outputs": [
        {
          "output_type": "display_data",
          "data": {
            "image/png": "[encoded data removed]",
            "text/plain": [
              "<Figure size 720x720 with 2 Axes>"
            ]
          },
          "metadata": {
            "tags": [],
            "needs_background": "light"
          }
        }
      ]
    }
  ]
}