{
  "nbformat": 4,
  "nbformat_minor": 0,
  "metadata": {
    "colab": {
      "name": "Copy of LR_Graded_Questions.ipynb",
      "provenance": [],
      "collapsed_sections": [],
      "authorship_tag": "ABX9TyPGjXShtwaiI27vzwSIgCS3",
      "include_colab_link": true
    },
    "kernelspec": {
      "name": "python3",
      "display_name": "Python 3"
    }
  },
  "cells": [
    {
      "cell_type": "markdown",
      "metadata": {
        "id": "view-in-github",
        "colab_type": "text"
      },
      "source": [
        "<a href=\"https://colab.research.google.com/github/Srinunosina/npoi/blob/master/Copy_of_LR_Graded_Questions.ipynb\" target=\"_parent\"><img src=\"https://colab.research.google.com/assets/colab-badge.svg\" alt=\"Open In Colab\"/></a>"
      ]
    },
    {
      "cell_type": "code",
      "metadata": {
        "id": "1GN2XsJQ7vpT",
        "colab_type": "code",
        "colab": {}
      },
      "source": [
        "import pandas as pd\n",
        "import numpy as np"
      ],
      "execution_count": 0,
      "outputs": []
    },
    {
      "cell_type": "code",
      "metadata": {
        "id": "jj_iQSj870MX",
        "colab_type": "code",
        "outputId": "66f7d02f-d265-4d13-b505-08b078c58519",
        "colab": {
          "base_uri": "https://localhost:8080/",
          "height": 51
        }
      },
      "source": [
        "input_string = input()\n",
        "\n",
        "#print(input_string.capitalize())\n",
        "\n",
        "sentence=input_string.split(' ')\n",
        "for i in sentence:\n",
        "    print(i.capitalize(),end=' ')"
      ],
      "execution_count": 4,
      "outputs": [
        {
          "output_type": "stream",
          "text": [
            "qwevdc  eee\n",
            "Qwevdc  Eee "
          ],
          "name": "stdout"
        }
      ]
    },
    {
      "cell_type": "code",
      "metadata": {
        "id": "odIXwAPv-xXX",
        "colab_type": "code",
        "outputId": "005bbe67-e210-40ec-b58f-c97eb25e9631",
        "colab": {
          "base_uri": "https://localhost:8080/",
          "height": 34
        }
      },
      "source": [
        "import ast,sys\n",
        "input_str = sys.stdin.read()\n",
        "#input_list = ast.literal_eval(input_str)\n",
        "input_list = [7] #  [6, 6, 6, 6, 6] # [7, 2, 0, 9, -1, 8] # [3, 1, 4, 4, 5, 5, 5, 0, 2, 2,6,6, 8,8, 20]  # #\n",
        "# print('Sorted List', input_list)\n",
        "\n",
        "distinct_list = list(dict.fromkeys(input_list))\n",
        "distinct_list.sort()\n",
        "\n",
        "if len(distinct_list) == 1:\n",
        "  print('not present')\n",
        "else:\n",
        "  print(distinct_list[-2])"
      ],
      "execution_count": 5,
      "outputs": [
        {
          "output_type": "stream",
          "text": [
            "not present\n"
          ],
          "name": "stdout"
        }
      ]
    },
    {
      "cell_type": "code",
      "metadata": {
        "id": "e5J1bz11BbMv",
        "colab_type": "code",
        "colab": {}
      },
      "source": [
        "# Importing the Pandas package and reading the data\n",
        "wholesale = pd.read_csv('https://media-doselect.s3.amazonaws.com/generic/OkbnaOBqrBXZOpRQw1JGMgaM9/Wholesale_Data.csv')"
      ],
      "execution_count": 0,
      "outputs": []
    },
    {
      "cell_type": "code",
      "metadata": {
        "id": "N0ym0Gm5OWOQ",
        "colab_type": "code",
        "outputId": "00dc0ab9-e20a-4da7-bdf8-626aa26befe7",
        "colab": {
          "base_uri": "https://localhost:8080/",
          "height": 204
        }
      },
      "source": [
        "# Write your code here. Make sure that you change the values in the column 'Channel' inplace. \n",
        "wholesale.head()"
      ],
      "execution_count": 15,
      "outputs": [
        {
          "output_type": "execute_result",
          "data": {
            "text/html": [
              "<div>\n",
              "<style scoped>\n",
              "    .dataframe tbody tr th:only-of-type {\n",
              "        vertical-align: middle;\n",
              "    }\n",
              "\n",
              "    .dataframe tbody tr th {\n",
              "        vertical-align: top;\n",
              "    }\n",
              "\n",
              "    .dataframe thead th {\n",
              "        text-align: right;\n",
              "    }\n",
              "</style>\n",
              "<table border=\"1\" class=\"dataframe\">\n",
              "  <thead>\n",
              "    <tr style=\"text-align: right;\">\n",
              "      <th></th>\n",
              "      <th>Fresh</th>\n",
              "      <th>Milk</th>\n",
              "      <th>Grocery</th>\n",
              "      <th>Frozen</th>\n",
              "      <th>Detergents_Paper</th>\n",
              "      <th>Delicassen</th>\n",
              "      <th>Channel</th>\n",
              "    </tr>\n",
              "  </thead>\n",
              "  <tbody>\n",
              "    <tr>\n",
              "      <th>0</th>\n",
              "      <td>12669</td>\n",
              "      <td>9656</td>\n",
              "      <td>7561</td>\n",
              "      <td>214</td>\n",
              "      <td>2674</td>\n",
              "      <td>1338</td>\n",
              "      <td>Cafe</td>\n",
              "    </tr>\n",
              "    <tr>\n",
              "      <th>1</th>\n",
              "      <td>7057</td>\n",
              "      <td>9810</td>\n",
              "      <td>9568</td>\n",
              "      <td>1762</td>\n",
              "      <td>3293</td>\n",
              "      <td>1776</td>\n",
              "      <td>Hotel</td>\n",
              "    </tr>\n",
              "    <tr>\n",
              "      <th>2</th>\n",
              "      <td>6353</td>\n",
              "      <td>8808</td>\n",
              "      <td>7684</td>\n",
              "      <td>2405</td>\n",
              "      <td>3516</td>\n",
              "      <td>7844</td>\n",
              "      <td>Hotel</td>\n",
              "    </tr>\n",
              "    <tr>\n",
              "      <th>3</th>\n",
              "      <td>13265</td>\n",
              "      <td>1196</td>\n",
              "      <td>4221</td>\n",
              "      <td>6404</td>\n",
              "      <td>507</td>\n",
              "      <td>1788</td>\n",
              "      <td>Cafe</td>\n",
              "    </tr>\n",
              "    <tr>\n",
              "      <th>4</th>\n",
              "      <td>22615</td>\n",
              "      <td>5410</td>\n",
              "      <td>7198</td>\n",
              "      <td>3915</td>\n",
              "      <td>1777</td>\n",
              "      <td>5185</td>\n",
              "      <td>Hotel</td>\n",
              "    </tr>\n",
              "  </tbody>\n",
              "</table>\n",
              "</div>"
            ],
            "text/plain": [
              "   Fresh  Milk  Grocery  Frozen  Detergents_Paper  Delicassen Channel\n",
              "0  12669  9656     7561     214              2674        1338    Cafe\n",
              "1   7057  9810     9568    1762              3293        1776   Hotel\n",
              "2   6353  8808     7684    2405              3516        7844   Hotel\n",
              "3  13265  1196     4221    6404               507        1788    Cafe\n",
              "4  22615  5410     7198    3915              1777        5185   Hotel"
            ]
          },
          "metadata": {
            "tags": []
          },
          "execution_count": 15
        }
      ]
    },
    {
      "cell_type": "code",
      "metadata": {
        "id": "L8JMu-DrRTRv",
        "colab_type": "code",
        "colab": {}
      },
      "source": [
        "#wholesale.info()"
      ],
      "execution_count": 0,
      "outputs": []
    },
    {
      "cell_type": "code",
      "metadata": {
        "id": "Y8RmcM9tOBs6",
        "colab_type": "code",
        "outputId": "668d23b6-dc8c-4781-c5a6-588580647d35",
        "colab": {
          "base_uri": "https://localhost:8080/",
          "height": 204
        }
      },
      "source": [
        "# The final print statement. Please don't edit this part. Also don't write any other\n",
        "# print statement otherwise your answer will not match even if it is correct\n",
        "print(wholesale['Channel'].value_counts())"
      ],
      "execution_count": 10,
      "outputs": [
        {
          "output_type": "stream",
          "text": [
            "H             47\n",
            "Cafe          45\n",
            "Caffe         42\n",
            "R             42\n",
            "C             36\n",
            "Hote          35\n",
            "Hotel         32\n",
            "Hot           32\n",
            "Restaurant    30\n",
            "Rest          29\n",
            "Name: Channel, dtype: int64\n"
          ],
          "name": "stdout"
        }
      ]
    },
    {
      "cell_type": "code",
      "metadata": {
        "id": "mXErcMdeuZvg",
        "colab_type": "code",
        "colab": {}
      },
      "source": [
        "df = wholesale[:]"
      ],
      "execution_count": 0,
      "outputs": []
    },
    {
      "cell_type": "code",
      "metadata": {
        "id": "9gc9gbYhubWX",
        "colab_type": "code",
        "colab": {}
      },
      "source": [
        "# Define a function to rename the spelling mistakes\n",
        "def rename_channel(error_data, correct_data):\n",
        "    df['Channel'].replace(error_data, correct_data, inplace = True)"
      ],
      "execution_count": 0,
      "outputs": []
    },
    {
      "cell_type": "code",
      "metadata": {
        "id": "IIrSMajPubZZ",
        "colab_type": "code",
        "colab": {
          "base_uri": "https://localhost:8080/",
          "height": 102
        },
        "outputId": "1837430e-48cc-439c-ba92-92f03445b9a0"
      },
      "source": [
        "# Call rename_channel function\n",
        "rename_channel('C','Cafe')\n",
        "rename_channel('H','Hotel')\n",
        "rename_channel('R','Restaurant')\n",
        "rename_channel('Caffe','Cafe')\n",
        "rename_channel('Hot','Hotel')\n",
        "rename_channel('Hote','Hotel')\n",
        "rename_channel('Rest','Restaurant')"
      ],
      "execution_count": 13,
      "outputs": [
        {
          "output_type": "stream",
          "text": [
            "/usr/local/lib/python3.6/dist-packages/pandas/core/generic.py:6746: SettingWithCopyWarning: \n",
            "A value is trying to be set on a copy of a slice from a DataFrame\n",
            "\n",
            "See the caveats in the documentation: https://pandas.pydata.org/pandas-docs/stable/user_guide/indexing.html#returning-a-view-versus-a-copy\n",
            "  self._update_inplace(new_data)\n"
          ],
          "name": "stderr"
        }
      ]
    },
    {
      "cell_type": "code",
      "metadata": {
        "id": "N8m2tyRLubch",
        "colab_type": "code",
        "colab": {
          "base_uri": "https://localhost:8080/",
          "height": 85
        },
        "outputId": "38d67ab6-e038-485d-af4c-28cadd7b90af"
      },
      "source": [
        "print(wholesale['Channel'].value_counts())"
      ],
      "execution_count": 14,
      "outputs": [
        {
          "output_type": "stream",
          "text": [
            "Hotel         146\n",
            "Cafe          123\n",
            "Restaurant    101\n",
            "Name: Channel, dtype: int64\n"
          ],
          "name": "stdout"
        }
      ]
    },
    {
      "cell_type": "code",
      "metadata": {
        "id": "HW2R4bU1ubfx",
        "colab_type": "code",
        "colab": {}
      },
      "source": [
        "master_loan.groupby('loan_status').total_pymnt.sum() "
      ],
      "execution_count": 0,
      "outputs": []
    },
    {
      "cell_type": "code",
      "metadata": {
        "id": "SbrypWTsOt1G",
        "colab_type": "code",
        "colab": {}
      },
      "source": [
        "dic = {'H':'Hotel', 'C':'Cafe', 'R':'Restaurant','Caffe':'Cafe','Hot':'Hotel', 'Hote':'Hotel', 'Rest':'Restaurant',\n",
        "      'Cafe':'Cafe', 'Hotel':'Hotel', 'Restaurant':'Restaurant'}"
      ],
      "execution_count": 0,
      "outputs": []
    },
    {
      "cell_type": "code",
      "metadata": {
        "id": "NThnhMhnRyKy",
        "colab_type": "code",
        "colab": {}
      },
      "source": [
        "df = wholesale[:]"
      ],
      "execution_count": 0,
      "outputs": []
    },
    {
      "cell_type": "code",
      "metadata": {
        "id": "4PX3iAWHUMxc",
        "colab_type": "code",
        "colab": {}
      },
      "source": [
        "#df.info()"
      ],
      "execution_count": 0,
      "outputs": []
    },
    {
      "cell_type": "code",
      "metadata": {
        "id": "MHyWB1LaT3JI",
        "colab_type": "code",
        "colab": {}
      },
      "source": [
        "#df['Channel_New'] = df['Channel']"
      ],
      "execution_count": 0,
      "outputs": []
    },
    {
      "cell_type": "code",
      "metadata": {
        "id": "RH5Mxv9IpNtR",
        "colab_type": "code",
        "colab": {}
      },
      "source": [
        "#df = df.replace({\"Channel\": dic })"
      ],
      "execution_count": 0,
      "outputs": []
    },
    {
      "cell_type": "code",
      "metadata": {
        "id": "E7rmz4ZAUcxM",
        "colab_type": "code",
        "colab": {}
      },
      "source": [
        "#print(df['Channel_New'].value_counts())"
      ],
      "execution_count": 0,
      "outputs": []
    },
    {
      "cell_type": "code",
      "metadata": {
        "id": "FxHamns_Uimb",
        "colab_type": "code",
        "colab": {}
      },
      "source": [
        "#print(df['Channel'].value_counts())"
      ],
      "execution_count": 0,
      "outputs": []
    },
    {
      "cell_type": "code",
      "metadata": {
        "id": "gDr_MOhDU-1y",
        "colab_type": "code",
        "colab": {
          "base_uri": "https://localhost:8080/",
          "height": 255
        },
        "outputId": "49ad0805-12f9-4889-b817-3a6d271de250"
      },
      "source": [
        "df.info()"
      ],
      "execution_count": 17,
      "outputs": [
        {
          "output_type": "stream",
          "text": [
            "<class 'pandas.core.frame.DataFrame'>\n",
            "RangeIndex: 370 entries, 0 to 369\n",
            "Data columns (total 7 columns):\n",
            " #   Column            Non-Null Count  Dtype \n",
            "---  ------            --------------  ----- \n",
            " 0   Fresh             370 non-null    int64 \n",
            " 1   Milk              370 non-null    int64 \n",
            " 2   Grocery           370 non-null    int64 \n",
            " 3   Frozen            370 non-null    int64 \n",
            " 4   Detergents_Paper  370 non-null    int64 \n",
            " 5   Delicassen        370 non-null    int64 \n",
            " 6   Channel           370 non-null    object\n",
            "dtypes: int64(6), object(1)\n",
            "memory usage: 20.4+ KB\n"
          ],
          "name": "stdout"
        }
      ]
    },
    {
      "cell_type": "code",
      "metadata": {
        "id": "vFB32UPXjJNY",
        "colab_type": "code",
        "colab": {
          "base_uri": "https://localhost:8080/",
          "height": 173
        },
        "outputId": "9e365ff1-fbbd-4826-afe7-5c376f6ca3d5"
      },
      "source": [
        "df.groupby('Channel').count()"
      ],
      "execution_count": 19,
      "outputs": [
        {
          "output_type": "execute_result",
          "data": {
            "text/html": [
              "<div>\n",
              "<style scoped>\n",
              "    .dataframe tbody tr th:only-of-type {\n",
              "        vertical-align: middle;\n",
              "    }\n",
              "\n",
              "    .dataframe tbody tr th {\n",
              "        vertical-align: top;\n",
              "    }\n",
              "\n",
              "    .dataframe thead th {\n",
              "        text-align: right;\n",
              "    }\n",
              "</style>\n",
              "<table border=\"1\" class=\"dataframe\">\n",
              "  <thead>\n",
              "    <tr style=\"text-align: right;\">\n",
              "      <th></th>\n",
              "      <th>Fresh</th>\n",
              "      <th>Milk</th>\n",
              "      <th>Grocery</th>\n",
              "      <th>Frozen</th>\n",
              "      <th>Detergents_Paper</th>\n",
              "      <th>Delicassen</th>\n",
              "    </tr>\n",
              "    <tr>\n",
              "      <th>Channel</th>\n",
              "      <th></th>\n",
              "      <th></th>\n",
              "      <th></th>\n",
              "      <th></th>\n",
              "      <th></th>\n",
              "      <th></th>\n",
              "    </tr>\n",
              "  </thead>\n",
              "  <tbody>\n",
              "    <tr>\n",
              "      <th>Cafe</th>\n",
              "      <td>123</td>\n",
              "      <td>123</td>\n",
              "      <td>123</td>\n",
              "      <td>123</td>\n",
              "      <td>123</td>\n",
              "      <td>123</td>\n",
              "    </tr>\n",
              "    <tr>\n",
              "      <th>Hotel</th>\n",
              "      <td>146</td>\n",
              "      <td>146</td>\n",
              "      <td>146</td>\n",
              "      <td>146</td>\n",
              "      <td>146</td>\n",
              "      <td>146</td>\n",
              "    </tr>\n",
              "    <tr>\n",
              "      <th>Restaurant</th>\n",
              "      <td>101</td>\n",
              "      <td>101</td>\n",
              "      <td>101</td>\n",
              "      <td>101</td>\n",
              "      <td>101</td>\n",
              "      <td>101</td>\n",
              "    </tr>\n",
              "  </tbody>\n",
              "</table>\n",
              "</div>"
            ],
            "text/plain": [
              "            Fresh  Milk  Grocery  Frozen  Detergents_Paper  Delicassen\n",
              "Channel                                                               \n",
              "Cafe          123   123      123     123               123         123\n",
              "Hotel         146   146      146     146               146         146\n",
              "Restaurant    101   101      101     101               101         101"
            ]
          },
          "metadata": {
            "tags": []
          },
          "execution_count": 19
        }
      ]
    },
    {
      "cell_type": "code",
      "metadata": {
        "id": "0q5Xely_ji5Y",
        "colab_type": "code",
        "colab": {}
      },
      "source": [
        "df1 = pd.read_csv('https://media-doselect.s3.amazonaws.com/generic/OqwpypRKN09x5GYej2LvVrprn/Wholesale_Data_Cleaned.csv')\n",
        "\n",
        "# Write your code here"
      ],
      "execution_count": 0,
      "outputs": []
    },
    {
      "cell_type": "code",
      "metadata": {
        "id": "ufS8cLwBjlan",
        "colab_type": "code",
        "colab": {
          "base_uri": "https://localhost:8080/",
          "height": 255
        },
        "outputId": "6508d38b-5c03-4237-e017-bd0b18aee075"
      },
      "source": [
        "df1.info()"
      ],
      "execution_count": 24,
      "outputs": [
        {
          "output_type": "stream",
          "text": [
            "<class 'pandas.core.frame.DataFrame'>\n",
            "RangeIndex: 300 entries, 0 to 299\n",
            "Data columns (total 7 columns):\n",
            " #   Column            Non-Null Count  Dtype \n",
            "---  ------            --------------  ----- \n",
            " 0   Fresh             300 non-null    int64 \n",
            " 1   Milk              300 non-null    int64 \n",
            " 2   Grocery           300 non-null    int64 \n",
            " 3   Frozen            300 non-null    int64 \n",
            " 4   Detergents_Paper  300 non-null    int64 \n",
            " 5   Delicassen        300 non-null    int64 \n",
            " 6   Channel           300 non-null    object\n",
            "dtypes: int64(6), object(1)\n",
            "memory usage: 16.5+ KB\n"
          ],
          "name": "stdout"
        }
      ]
    },
    {
      "cell_type": "code",
      "metadata": {
        "id": "9kl4iulwj6wW",
        "colab_type": "code",
        "colab": {
          "base_uri": "https://localhost:8080/",
          "height": 85
        },
        "outputId": "6194337d-95bd-4ed2-93a2-29acf5eb67eb"
      },
      "source": [
        "print(df1['Channel'].value_counts())"
      ],
      "execution_count": 26,
      "outputs": [
        {
          "output_type": "stream",
          "text": [
            "Hotel         120\n",
            "Cafe          102\n",
            "Restaurant     78\n",
            "Name: Channel, dtype: int64\n"
          ],
          "name": "stdout"
        }
      ]
    },
    {
      "cell_type": "code",
      "metadata": {
        "id": "NM58pOqukW8_",
        "colab_type": "code",
        "colab": {
          "base_uri": "https://localhost:8080/",
          "height": 173
        },
        "outputId": "56236342-cc01-4d56-df6f-ac9e4c18e817"
      },
      "source": [
        "df1.groupby('Channel').count()"
      ],
      "execution_count": 27,
      "outputs": [
        {
          "output_type": "execute_result",
          "data": {
            "text/html": [
              "<div>\n",
              "<style scoped>\n",
              "    .dataframe tbody tr th:only-of-type {\n",
              "        vertical-align: middle;\n",
              "    }\n",
              "\n",
              "    .dataframe tbody tr th {\n",
              "        vertical-align: top;\n",
              "    }\n",
              "\n",
              "    .dataframe thead th {\n",
              "        text-align: right;\n",
              "    }\n",
              "</style>\n",
              "<table border=\"1\" class=\"dataframe\">\n",
              "  <thead>\n",
              "    <tr style=\"text-align: right;\">\n",
              "      <th></th>\n",
              "      <th>Fresh</th>\n",
              "      <th>Milk</th>\n",
              "      <th>Grocery</th>\n",
              "      <th>Frozen</th>\n",
              "      <th>Detergents_Paper</th>\n",
              "      <th>Delicassen</th>\n",
              "    </tr>\n",
              "    <tr>\n",
              "      <th>Channel</th>\n",
              "      <th></th>\n",
              "      <th></th>\n",
              "      <th></th>\n",
              "      <th></th>\n",
              "      <th></th>\n",
              "      <th></th>\n",
              "    </tr>\n",
              "  </thead>\n",
              "  <tbody>\n",
              "    <tr>\n",
              "      <th>Cafe</th>\n",
              "      <td>102</td>\n",
              "      <td>102</td>\n",
              "      <td>102</td>\n",
              "      <td>102</td>\n",
              "      <td>102</td>\n",
              "      <td>102</td>\n",
              "    </tr>\n",
              "    <tr>\n",
              "      <th>Hotel</th>\n",
              "      <td>120</td>\n",
              "      <td>120</td>\n",
              "      <td>120</td>\n",
              "      <td>120</td>\n",
              "      <td>120</td>\n",
              "      <td>120</td>\n",
              "    </tr>\n",
              "    <tr>\n",
              "      <th>Restaurant</th>\n",
              "      <td>78</td>\n",
              "      <td>78</td>\n",
              "      <td>78</td>\n",
              "      <td>78</td>\n",
              "      <td>78</td>\n",
              "      <td>78</td>\n",
              "    </tr>\n",
              "  </tbody>\n",
              "</table>\n",
              "</div>"
            ],
            "text/plain": [
              "            Fresh  Milk  Grocery  Frozen  Detergents_Paper  Delicassen\n",
              "Channel                                                               \n",
              "Cafe          102   102      102     102               102         102\n",
              "Hotel         120   120      120     120               120         120\n",
              "Restaurant     78    78       78      78                78          78"
            ]
          },
          "metadata": {
            "tags": []
          },
          "execution_count": 27
        }
      ]
    },
    {
      "cell_type": "code",
      "metadata": {
        "id": "NV4yzwo8kjgH",
        "colab_type": "code",
        "colab": {
          "base_uri": "https://localhost:8080/",
          "height": 173
        },
        "outputId": "eead7034-7463-474e-f39e-d9661bae3be8"
      },
      "source": [
        "df1.groupby('Channel').sum()"
      ],
      "execution_count": 30,
      "outputs": [
        {
          "output_type": "execute_result",
          "data": {
            "text/html": [
              "<div>\n",
              "<style scoped>\n",
              "    .dataframe tbody tr th:only-of-type {\n",
              "        vertical-align: middle;\n",
              "    }\n",
              "\n",
              "    .dataframe tbody tr th {\n",
              "        vertical-align: top;\n",
              "    }\n",
              "\n",
              "    .dataframe thead th {\n",
              "        text-align: right;\n",
              "    }\n",
              "</style>\n",
              "<table border=\"1\" class=\"dataframe\">\n",
              "  <thead>\n",
              "    <tr style=\"text-align: right;\">\n",
              "      <th></th>\n",
              "      <th>Fresh</th>\n",
              "      <th>Milk</th>\n",
              "      <th>Grocery</th>\n",
              "      <th>Frozen</th>\n",
              "      <th>Detergents_Paper</th>\n",
              "      <th>Delicassen</th>\n",
              "    </tr>\n",
              "    <tr>\n",
              "      <th>Channel</th>\n",
              "      <th></th>\n",
              "      <th></th>\n",
              "      <th></th>\n",
              "      <th></th>\n",
              "      <th></th>\n",
              "      <th></th>\n",
              "    </tr>\n",
              "  </thead>\n",
              "  <tbody>\n",
              "    <tr>\n",
              "      <th>Cafe</th>\n",
              "      <td>1348274</td>\n",
              "      <td>773080</td>\n",
              "      <td>973308</td>\n",
              "      <td>271831</td>\n",
              "      <td>365372</td>\n",
              "      <td>164147</td>\n",
              "    </tr>\n",
              "    <tr>\n",
              "      <th>Hotel</th>\n",
              "      <td>1682068</td>\n",
              "      <td>735817</td>\n",
              "      <td>1001518</td>\n",
              "      <td>472713</td>\n",
              "      <td>363799</td>\n",
              "      <td>245814</td>\n",
              "    </tr>\n",
              "    <tr>\n",
              "      <th>Restaurant</th>\n",
              "      <td>795696</td>\n",
              "      <td>408249</td>\n",
              "      <td>635229</td>\n",
              "      <td>246290</td>\n",
              "      <td>238404</td>\n",
              "      <td>91488</td>\n",
              "    </tr>\n",
              "  </tbody>\n",
              "</table>\n",
              "</div>"
            ],
            "text/plain": [
              "              Fresh    Milk  Grocery  Frozen  Detergents_Paper  Delicassen\n",
              "Channel                                                                   \n",
              "Cafe        1348274  773080   973308  271831            365372      164147\n",
              "Hotel       1682068  735817  1001518  472713            363799      245814\n",
              "Restaurant   795696  408249   635229  246290            238404       91488"
            ]
          },
          "metadata": {
            "tags": []
          },
          "execution_count": 30
        }
      ]
    },
    {
      "cell_type": "code",
      "metadata": {
        "id": "PeJ3VTh3oYAV",
        "colab_type": "code",
        "colab": {
          "base_uri": "https://localhost:8080/",
          "height": 173
        },
        "outputId": "b66899eb-1f97-41d6-9e30-99cc292d4693"
      },
      "source": [
        "df_cafe = df1.groupby('Channel').sum()\n",
        "df_cafe"
      ],
      "execution_count": 31,
      "outputs": [
        {
          "output_type": "execute_result",
          "data": {
            "text/html": [
              "<div>\n",
              "<style scoped>\n",
              "    .dataframe tbody tr th:only-of-type {\n",
              "        vertical-align: middle;\n",
              "    }\n",
              "\n",
              "    .dataframe tbody tr th {\n",
              "        vertical-align: top;\n",
              "    }\n",
              "\n",
              "    .dataframe thead th {\n",
              "        text-align: right;\n",
              "    }\n",
              "</style>\n",
              "<table border=\"1\" class=\"dataframe\">\n",
              "  <thead>\n",
              "    <tr style=\"text-align: right;\">\n",
              "      <th></th>\n",
              "      <th>Fresh</th>\n",
              "      <th>Milk</th>\n",
              "      <th>Grocery</th>\n",
              "      <th>Frozen</th>\n",
              "      <th>Detergents_Paper</th>\n",
              "      <th>Delicassen</th>\n",
              "    </tr>\n",
              "    <tr>\n",
              "      <th>Channel</th>\n",
              "      <th></th>\n",
              "      <th></th>\n",
              "      <th></th>\n",
              "      <th></th>\n",
              "      <th></th>\n",
              "      <th></th>\n",
              "    </tr>\n",
              "  </thead>\n",
              "  <tbody>\n",
              "    <tr>\n",
              "      <th>Cafe</th>\n",
              "      <td>1348274</td>\n",
              "      <td>773080</td>\n",
              "      <td>973308</td>\n",
              "      <td>271831</td>\n",
              "      <td>365372</td>\n",
              "      <td>164147</td>\n",
              "    </tr>\n",
              "    <tr>\n",
              "      <th>Hotel</th>\n",
              "      <td>1682068</td>\n",
              "      <td>735817</td>\n",
              "      <td>1001518</td>\n",
              "      <td>472713</td>\n",
              "      <td>363799</td>\n",
              "      <td>245814</td>\n",
              "    </tr>\n",
              "    <tr>\n",
              "      <th>Restaurant</th>\n",
              "      <td>795696</td>\n",
              "      <td>408249</td>\n",
              "      <td>635229</td>\n",
              "      <td>246290</td>\n",
              "      <td>238404</td>\n",
              "      <td>91488</td>\n",
              "    </tr>\n",
              "  </tbody>\n",
              "</table>\n",
              "</div>"
            ],
            "text/plain": [
              "              Fresh    Milk  Grocery  Frozen  Detergents_Paper  Delicassen\n",
              "Channel                                                                   \n",
              "Cafe        1348274  773080   973308  271831            365372      164147\n",
              "Hotel       1682068  735817  1001518  472713            363799      245814\n",
              "Restaurant   795696  408249   635229  246290            238404       91488"
            ]
          },
          "metadata": {
            "tags": []
          },
          "execution_count": 31
        }
      ]
    },
    {
      "cell_type": "code",
      "metadata": {
        "id": "N8kb3VQ0rhXG",
        "colab_type": "code",
        "colab": {
          "base_uri": "https://localhost:8080/",
          "height": 68
        },
        "outputId": "fff6c44b-c280-46e2-e55e-119c58cf883e"
      },
      "source": [
        "print('Cafe : ', 1348274\t+ 773080 +\t973308\t+ 271831 +\t365372 +\t164147)\n",
        "print('Hotel : ', 1682068\t+ 735817\t+ 1001518\t+ 472713\t+ 363799\t+ 245814)\n",
        "print('Rest : ', 795696\t+ 408249\t+ 635229\t+ 246290\t+ 238404 +\t91488)"
      ],
      "execution_count": 34,
      "outputs": [
        {
          "output_type": "stream",
          "text": [
            "Cafe :  3896012\n",
            "Hotel :  4501729\n",
            "Rest :  2415356\n"
          ],
          "name": "stdout"
        }
      ]
    },
    {
      "cell_type": "code",
      "metadata": {
        "id": "ddqIlCMnv9BJ",
        "colab_type": "code",
        "colab": {
          "base_uri": "https://localhost:8080/",
          "height": 173
        },
        "outputId": "c893f5f5-2b97-4bff-fae3-fabb89dc5b9d"
      },
      "source": [
        "df_cafe.columns\n",
        "df_cafe"
      ],
      "execution_count": 43,
      "outputs": [
        {
          "output_type": "execute_result",
          "data": {
            "text/html": [
              "<div>\n",
              "<style scoped>\n",
              "    .dataframe tbody tr th:only-of-type {\n",
              "        vertical-align: middle;\n",
              "    }\n",
              "\n",
              "    .dataframe tbody tr th {\n",
              "        vertical-align: top;\n",
              "    }\n",
              "\n",
              "    .dataframe thead th {\n",
              "        text-align: right;\n",
              "    }\n",
              "</style>\n",
              "<table border=\"1\" class=\"dataframe\">\n",
              "  <thead>\n",
              "    <tr style=\"text-align: right;\">\n",
              "      <th></th>\n",
              "      <th>Fresh</th>\n",
              "      <th>Milk</th>\n",
              "      <th>Grocery</th>\n",
              "      <th>Frozen</th>\n",
              "      <th>Detergents_Paper</th>\n",
              "      <th>Delicassen</th>\n",
              "    </tr>\n",
              "    <tr>\n",
              "      <th>Channel</th>\n",
              "      <th></th>\n",
              "      <th></th>\n",
              "      <th></th>\n",
              "      <th></th>\n",
              "      <th></th>\n",
              "      <th></th>\n",
              "    </tr>\n",
              "  </thead>\n",
              "  <tbody>\n",
              "    <tr>\n",
              "      <th>Cafe</th>\n",
              "      <td>1348274</td>\n",
              "      <td>773080</td>\n",
              "      <td>973308</td>\n",
              "      <td>271831</td>\n",
              "      <td>365372</td>\n",
              "      <td>164147</td>\n",
              "    </tr>\n",
              "    <tr>\n",
              "      <th>Hotel</th>\n",
              "      <td>1682068</td>\n",
              "      <td>735817</td>\n",
              "      <td>1001518</td>\n",
              "      <td>472713</td>\n",
              "      <td>363799</td>\n",
              "      <td>245814</td>\n",
              "    </tr>\n",
              "    <tr>\n",
              "      <th>Restaurant</th>\n",
              "      <td>795696</td>\n",
              "      <td>408249</td>\n",
              "      <td>635229</td>\n",
              "      <td>246290</td>\n",
              "      <td>238404</td>\n",
              "      <td>91488</td>\n",
              "    </tr>\n",
              "  </tbody>\n",
              "</table>\n",
              "</div>"
            ],
            "text/plain": [
              "              Fresh    Milk  Grocery  Frozen  Detergents_Paper  Delicassen\n",
              "Channel                                                                   \n",
              "Cafe        1348274  773080   973308  271831            365372      164147\n",
              "Hotel       1682068  735817  1001518  472713            363799      245814\n",
              "Restaurant   795696  408249   635229  246290            238404       91488"
            ]
          },
          "metadata": {
            "tags": []
          },
          "execution_count": 43
        }
      ]
    },
    {
      "cell_type": "code",
      "metadata": {
        "id": "FX-AHnKuwMQ2",
        "colab_type": "code",
        "colab": {
          "base_uri": "https://localhost:8080/",
          "height": 34
        },
        "outputId": "27fb8b68-3a3a-408d-9509-04783c167e4b"
      },
      "source": [
        "#df_cf = df_cafe[df_cafe['Channel'] == 'Cafe']]\n",
        "df_cafe = df1[df1['Channel'] == 'Cafe'].groupby('Channel').sum().sum().sum()\n",
        "df_hotel = df1[df1['Channel'] == 'Hotel'].groupby('Channel').sum().sum().sum()\n",
        "df_restaurant = df1[df1['Channel'] == 'Restaurant'].groupby('Channel').sum().sum().sum()\n",
        "\n",
        "dic = {'Cafe':df_cafe, 'Hotel': df_hotel, 'Restaurant': df_restaurant}\n",
        "\n",
        "#print(s1, s2, s3)\n",
        "temp = min(dic.values())\n",
        "temp\n",
        "\n",
        "listOfKeys = [key  for (key, value) in dic.items() if value == temp]\n",
        "listOfKeys\n",
        " \n",
        "# Find keys in dictionary by value list\n",
        "#print(dic['Restaurant'])"
      ],
      "execution_count": 81,
      "outputs": [
        {
          "output_type": "execute_result",
          "data": {
            "text/plain": [
              "['Restaurant']"
            ]
          },
          "metadata": {
            "tags": []
          },
          "execution_count": 81
        }
      ]
    },
    {
      "cell_type": "code",
      "metadata": {
        "id": "ZF9UGKTd8Oos",
        "colab_type": "code",
        "colab": {
          "base_uri": "https://localhost:8080/",
          "height": 68
        },
        "outputId": "b2dafd27-7630-433d-e0b8-fd7efee53429"
      },
      "source": [
        "for key, value in dic.items(): \n",
        "    print (key, value) "
      ],
      "execution_count": 79,
      "outputs": [
        {
          "output_type": "stream",
          "text": [
            "Cafe 3896012\n",
            "Hotel 4501729\n",
            "Restaurant 2415356\n"
          ],
          "name": "stdout"
        }
      ]
    },
    {
      "cell_type": "code",
      "metadata": {
        "id": "1eHgq1Cc4XRF",
        "colab_type": "code",
        "colab": {
          "base_uri": "https://localhost:8080/",
          "height": 34
        },
        "outputId": "14bf6fd5-84ce-42dc-b775-ce0ab1939411"
      },
      "source": [
        "lst = [s1, s2, s3]\n",
        "min(lst)\n",
        "#dic.min"
      ],
      "execution_count": 73,
      "outputs": [
        {
          "output_type": "execute_result",
          "data": {
            "text/plain": [
              "2415356"
            ]
          },
          "metadata": {
            "tags": []
          },
          "execution_count": 73
        }
      ]
    },
    {
      "cell_type": "code",
      "metadata": {
        "id": "01KquA8o3IV8",
        "colab_type": "code",
        "colab": {
          "base_uri": "https://localhost:8080/",
          "height": 34
        },
        "outputId": "a7290bb3-5a6e-4f3f-a6e8-3bf2bcb244a0"
      },
      "source": [
        "dic = {'Cafe':s1, ''}\n",
        "\n",
        "print(type(lst))"
      ],
      "execution_count": 67,
      "outputs": [
        {
          "output_type": "execute_result",
          "data": {
            "text/plain": [
              "list"
            ]
          },
          "metadata": {
            "tags": []
          },
          "execution_count": 67
        }
      ]
    },
    {
      "cell_type": "code",
      "metadata": {
        "id": "LFvPCWPo47k1",
        "colab_type": "code",
        "colab": {
          "base_uri": "https://localhost:8080/",
          "height": 163
        },
        "outputId": "8dd591be-99e1-455c-fc23-74df2191b78e"
      },
      "source": [
        "lst.min()"
      ],
      "execution_count": 68,
      "outputs": [
        {
          "output_type": "error",
          "ename": "AttributeError",
          "evalue": "ignored",
          "traceback": [
            "\u001b[0;31m---------------------------------------------------------------------------\u001b[0m",
            "\u001b[0;31mAttributeError\u001b[0m                            Traceback (most recent call last)",
            "\u001b[0;32m<ipython-input-68-772880d21f71>\u001b[0m in \u001b[0;36m<module>\u001b[0;34m()\u001b[0m\n\u001b[0;32m----> 1\u001b[0;31m \u001b[0mlst\u001b[0m\u001b[0;34m.\u001b[0m\u001b[0mmin\u001b[0m\u001b[0;34m(\u001b[0m\u001b[0;34m)\u001b[0m\u001b[0;34m\u001b[0m\u001b[0;34m\u001b[0m\u001b[0m\n\u001b[0m",
            "\u001b[0;31mAttributeError\u001b[0m: 'list' object has no attribute 'min'"
          ]
        }
      ]
    },
    {
      "cell_type": "code",
      "metadata": {
        "id": "QEAkVZhpukT_",
        "colab_type": "code",
        "colab": {
          "base_uri": "https://localhost:8080/",
          "height": 227
        },
        "outputId": "3b22c469-0822-42de-9870-bfbf72381a4e"
      },
      "source": [
        "res = df1.groupby('Channel')['Milk','Fresh'].sum()\n",
        "res"
      ],
      "execution_count": 41,
      "outputs": [
        {
          "output_type": "stream",
          "text": [
            "/usr/local/lib/python3.6/dist-packages/ipykernel_launcher.py:1: FutureWarning: Indexing with multiple keys (implicitly converted to a tuple of keys) will be deprecated, use a list instead.\n",
            "  \"\"\"Entry point for launching an IPython kernel.\n"
          ],
          "name": "stderr"
        },
        {
          "output_type": "execute_result",
          "data": {
            "text/html": [
              "<div>\n",
              "<style scoped>\n",
              "    .dataframe tbody tr th:only-of-type {\n",
              "        vertical-align: middle;\n",
              "    }\n",
              "\n",
              "    .dataframe tbody tr th {\n",
              "        vertical-align: top;\n",
              "    }\n",
              "\n",
              "    .dataframe thead th {\n",
              "        text-align: right;\n",
              "    }\n",
              "</style>\n",
              "<table border=\"1\" class=\"dataframe\">\n",
              "  <thead>\n",
              "    <tr style=\"text-align: right;\">\n",
              "      <th></th>\n",
              "      <th>Milk</th>\n",
              "      <th>Fresh</th>\n",
              "    </tr>\n",
              "    <tr>\n",
              "      <th>Channel</th>\n",
              "      <th></th>\n",
              "      <th></th>\n",
              "    </tr>\n",
              "  </thead>\n",
              "  <tbody>\n",
              "    <tr>\n",
              "      <th>Cafe</th>\n",
              "      <td>773080</td>\n",
              "      <td>1348274</td>\n",
              "    </tr>\n",
              "    <tr>\n",
              "      <th>Hotel</th>\n",
              "      <td>735817</td>\n",
              "      <td>1682068</td>\n",
              "    </tr>\n",
              "    <tr>\n",
              "      <th>Restaurant</th>\n",
              "      <td>408249</td>\n",
              "      <td>795696</td>\n",
              "    </tr>\n",
              "  </tbody>\n",
              "</table>\n",
              "</div>"
            ],
            "text/plain": [
              "              Milk    Fresh\n",
              "Channel                    \n",
              "Cafe        773080  1348274\n",
              "Hotel       735817  1682068\n",
              "Restaurant  408249   795696"
            ]
          },
          "metadata": {
            "tags": []
          },
          "execution_count": 41
        }
      ]
    },
    {
      "cell_type": "code",
      "metadata": {
        "id": "MnMWiC05wU5q",
        "colab_type": "code",
        "colab": {
          "base_uri": "https://localhost:8080/",
          "height": 173
        },
        "outputId": "66b13be3-392b-4b8a-d61e-7605944764e0"
      },
      "source": [
        "res"
      ],
      "execution_count": 42,
      "outputs": [
        {
          "output_type": "execute_result",
          "data": {
            "text/html": [
              "<div>\n",
              "<style scoped>\n",
              "    .dataframe tbody tr th:only-of-type {\n",
              "        vertical-align: middle;\n",
              "    }\n",
              "\n",
              "    .dataframe tbody tr th {\n",
              "        vertical-align: top;\n",
              "    }\n",
              "\n",
              "    .dataframe thead th {\n",
              "        text-align: right;\n",
              "    }\n",
              "</style>\n",
              "<table border=\"1\" class=\"dataframe\">\n",
              "  <thead>\n",
              "    <tr style=\"text-align: right;\">\n",
              "      <th></th>\n",
              "      <th>Milk</th>\n",
              "      <th>Fresh</th>\n",
              "    </tr>\n",
              "    <tr>\n",
              "      <th>Channel</th>\n",
              "      <th></th>\n",
              "      <th></th>\n",
              "    </tr>\n",
              "  </thead>\n",
              "  <tbody>\n",
              "    <tr>\n",
              "      <th>Cafe</th>\n",
              "      <td>773080</td>\n",
              "      <td>1348274</td>\n",
              "    </tr>\n",
              "    <tr>\n",
              "      <th>Hotel</th>\n",
              "      <td>735817</td>\n",
              "      <td>1682068</td>\n",
              "    </tr>\n",
              "    <tr>\n",
              "      <th>Restaurant</th>\n",
              "      <td>408249</td>\n",
              "      <td>795696</td>\n",
              "    </tr>\n",
              "  </tbody>\n",
              "</table>\n",
              "</div>"
            ],
            "text/plain": [
              "              Milk    Fresh\n",
              "Channel                    \n",
              "Cafe        773080  1348274\n",
              "Hotel       735817  1682068\n",
              "Restaurant  408249   795696"
            ]
          },
          "metadata": {
            "tags": []
          },
          "execution_count": 42
        }
      ]
    },
    {
      "cell_type": "code",
      "metadata": {
        "id": "pk9PSwIu0I0M",
        "colab_type": "code",
        "colab": {}
      },
      "source": [
        ""
      ],
      "execution_count": 0,
      "outputs": []
    }
  ]
}